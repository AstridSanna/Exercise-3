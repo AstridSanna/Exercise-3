{
 "cells": [
  {
   "cell_type": "markdown",
   "source": [
    "## Problem 3 - Allocating locations (*4 points*)\n",
    "\n",
    "### Overview\n",
    "\n",
    "The following map shows the locations of the weather stations (as blue points) in Finland that are more than 70 years old [1].\n",
    "In this problem we are interested to find out whether the station network was equally distributed across Finland\n",
    "seventy years ago. We have divided Finland into four geographical zones (i.e. Northwest, Northeast, Southwest, Southeast) according the approximate center point of Finnish mainland located at `26.3, 64.5` (longitude, latitude in decimal degrees).\n",
    "\n",
    "![FMI stations](img/FMI_stations_70_years_older.png)\n",
    "\n",
    "[1]: The locations and the age of weather stations were obtained from: http://en.ilmatieteenlaitos.fi/observation-stations\n",
    "\n",
    "Below, we have given you the coordinates of 34 weather stations.\n",
    "The location of a single station is determined with a pair of latitude and longitude coordinates.\n",
    "The coordinates of all the stations are separated into two lists (`lat` and `lon`) and the names of the stations are in `stations` list. From these lists, you would get e.g. the location of the first station by combining the latitude and longitude coordinates from coordinate lists, and the name of that station from `stations` list at index `0`.\n",
    "\n",
    "### Problem statement\n",
    "\n",
    "In this problem your job is to print the names of weather stations located in different zones. **Optionally** you should also report the share of weather stations that allocated to each zone that could be used to evaluate if certain zone was over/under-represented 70 years ago (This optional task does not affect your score on this problem).\n",
    "\n",
    "To solve this problem, you should modify and fill in the missing parts in the code cells below.\n",
    "\n",
    "**Notice**: Closely follow the instructions! For example, you should be sure to use **exactly** the same variable names mentioned in the instructions because your answers will be automatically graded, and the tests that grade your answers rely on following the same formatting or variable naming as in the instructions.\n",
    "\n",
    "**Your score on this problem will be based on following criteria:**\n",
    "\n",
    "- Creating four lists for geographical zones in Finland (i.e. `nort_west`, `north_east`, `south_west`, `south_east`)\n",
    "- Iterating over the values and determining to which geographical zone the station belongs\n",
    "    - Hint: You should create a loop that iterates `n` times. Create a variable *`n`* that should contain the number of stations we have here.\n",
    "    - You should use a conditional statement to find out if the latitude coordinate of a station is either North or South of the center point of Finland (`26.3, 64.5`) **AND** if the longitude location is West or East of that center point.\n",
    "    - You should insert the name of the station into the correct geographical zone list\n",
    "- Printing out the names of stations in each geographical zone\n",
    "- (*Optional*) Calculating and printing the percentage of stations in each zone"
   ],
   "metadata": {
    "deletable": false,
    "editable": false,
    "nbgrader": {
     "cell_type": "markdown",
     "checksum": "600a9957f43df2a815bf7630dd7c6d17",
     "grade": false,
     "grade_id": "cell-5c68af490e1d2129",
     "locked": true,
     "schema_version": 3,
     "solution": false
    }
   }
  },
  {
   "cell_type": "markdown",
   "source": [
    "### Data\n",
    "\n",
    "Here, we provide you the data you should use to solve the problem 3 (run the cell to get values into the memory of your computer):"
   ],
   "metadata": {
    "deletable": false,
    "editable": false,
    "nbgrader": {
     "cell_type": "markdown",
     "checksum": "1537ff693d796661dab9114de49c0bfb",
     "grade": false,
     "grade_id": "cell-5c0a48bd858489b8",
     "locked": true,
     "schema_version": 3,
     "solution": false
    }
   }
  },
  {
   "cell_type": "code",
   "execution_count": 1,
   "source": [
    "# Station names\r\n",
    "stations = ['Hanko Russarö', 'Heinola Asemantaus', 'Helsinki Kaisaniemi', \r\n",
    "            'Helsinki Malmi airfield', 'Hyvinkää Hyvinkäänkylä', 'Joutsa Savenaho', \r\n",
    "            'Juuka Niemelä', 'Jyväskylä airport', 'Kaarina Yltöinen', 'Kauhava airfield', \r\n",
    "            'Kemi Kemi-Tornio airport', 'Kotka Rankki', 'Kouvola Anjala', \r\n",
    "            'Kouvola Utti airport', 'Kuopio Maaninka', 'Kuusamo airport', \r\n",
    "            'Lieksa Lampela', 'Mustasaari Valassaaret', 'Parainen Utö', 'Pori airport', \r\n",
    "            'Rovaniemi Apukka', 'Salo Kärkkä', 'Savonlinna Punkaharju Laukansaari', \r\n",
    "            'Seinäjoki Pelmaa', 'Siikajoki Ruukki', 'Siilinjärvi Kuopio airport', \r\n",
    "            'Tohmajärvi Kemie', 'Utsjoki Nuorgam', 'Vaala Pelso', 'Vaasa airport', \r\n",
    "            'Vesanto Sonkari', 'Vieremä Kaarakkala', 'Vihti Maasoja', 'Ylitornio Meltosjärvi']\r\n",
    "\r\n",
    "# Latitude coordinates of Weather stations  \r\n",
    "lats = [59.77, 61.2, 60.18, 60.25, 60.6, 61.88, 63.23, 62.4,\r\n",
    "       60.39, 63.12, 65.78, 60.38, 60.7, 60.9, 63.14, 65.99,\r\n",
    "       63.32, 63.44, 59.78, 61.47, 66.58, 60.37, 61.8, 62.94,\r\n",
    "       64.68, 63.01, 62.24, 70.08, 64.501, 63.06, 62.92, 63.84,\r\n",
    "       60.42, 66.53]\r\n",
    "\r\n",
    "# Longitude coordinates of Weather stations \r\n",
    "lons = [22.95, 26.05, 24.94, 25.05, 24.8, 26.09, 29.23, 25.67, \r\n",
    "       22.55, 23.04, 24.58, 26.96, 26.81, 26.95, 27.31, 29.23, \r\n",
    "       30.05, 21.07, 21.37, 21.79, 26.01, 23.11, 29.32, 22.49, \r\n",
    "       25.09, 27.8, 30.35, 27.9, 26.42, 21.75, 26.42, 27.22, \r\n",
    "       24.4, 24.65]\r\n",
    "\r\n",
    "# Cutoff values that correspond to the centroid of Finnish mainland\r\n",
    "# North - South\r\n",
    "north_south_cutoff = 64.5\r\n",
    "\r\n",
    "# East-West\r\n",
    "east_west_cutoff = 26.3"
   ],
   "outputs": [],
   "metadata": {
    "deletable": false,
    "editable": false,
    "nbgrader": {
     "cell_type": "code",
     "checksum": "dbe4140e5913699f7487be22e490b39f",
     "grade": false,
     "grade_id": "cell-888d0ee752aed9d0",
     "locked": true,
     "schema_version": 3,
     "solution": false
    }
   }
  },
  {
   "cell_type": "markdown",
   "source": [
    "### Part 1 (0.5 points)\r\n",
    "\r\n",
    "- Create four empty lists for the geographical zones in Finland. Use **exactly** these variable names\r\n",
    "   - `north_west`\r\n",
    "   - `north_east`\r\n",
    "   - `south_west`\r\n",
    "   - `south_east`"
   ],
   "metadata": {
    "deletable": false,
    "editable": false,
    "nbgrader": {
     "cell_type": "markdown",
     "checksum": "6591caa55ba5bef8ae7158f0122c31b9",
     "grade": false,
     "grade_id": "cell-58b0a649f63e9d38",
     "locked": true,
     "schema_version": 3,
     "solution": false
    }
   }
  },
  {
   "cell_type": "code",
   "execution_count": 2,
   "source": [
    "north_west = []\r\n",
    "north_east = []\r\n",
    "south_west = []\r\n",
    "south_east = []"
   ],
   "outputs": [],
   "metadata": {
    "deletable": false,
    "nbgrader": {
     "cell_type": "code",
     "checksum": "bb76f9cfd25ed98e99072314f59097a5",
     "grade": false,
     "grade_id": "problem_3_ag_p1_geo_zones",
     "locked": false,
     "schema_version": 3,
     "solution": true
    }
   }
  },
  {
   "cell_type": "code",
   "execution_count": 3,
   "source": [
    "# This test print should work\r\n",
    "print(north_west, south_west)\r\n"
   ],
   "outputs": [
    {
     "output_type": "stream",
     "name": "stdout",
     "text": [
      "[] []\n"
     ]
    }
   ],
   "metadata": {
    "deletable": false,
    "editable": false,
    "nbgrader": {
     "cell_type": "code",
     "checksum": "b766e47b1852af4640480e5fd2eac01e",
     "grade": true,
     "grade_id": "problem_3_ag_p1_geo_zones_test1",
     "locked": true,
     "points": 0.5,
     "schema_version": 3,
     "solution": false
    }
   }
  },
  {
   "cell_type": "markdown",
   "source": [
    "### Part 2 (0.5 points)\n",
    "\n",
    "- Count the number of stations and store that value in variable: *`n`*"
   ],
   "metadata": {
    "deletable": false,
    "editable": false,
    "nbgrader": {
     "cell_type": "markdown",
     "checksum": "8f65f705b7b0747c1e0bd482ca4246a6",
     "grade": false,
     "grade_id": "cell-8fbea85320420b00",
     "locked": true,
     "schema_version": 3,
     "solution": false
    }
   }
  },
  {
   "cell_type": "code",
   "execution_count": 4,
   "source": [
    "# YOUR CODE HERE\r\n",
    "n = len(stations)"
   ],
   "outputs": [],
   "metadata": {
    "deletable": false,
    "nbgrader": {
     "cell_type": "code",
     "checksum": "65bf512f27403a124f2b3a3b9689a54e",
     "grade": false,
     "grade_id": "problem_3_ag_p2_station_count",
     "locked": false,
     "schema_version": 3,
     "solution": true
    }
   }
  },
  {
   "cell_type": "code",
   "execution_count": 5,
   "source": [
    "# How many stations do we have?\r\n",
    "print(\"In the data, there are\", n, \"stations.\")"
   ],
   "outputs": [
    {
     "output_type": "stream",
     "name": "stdout",
     "text": [
      "In the data, there are 34 stations.\n"
     ]
    }
   ],
   "metadata": {
    "deletable": false,
    "editable": false,
    "nbgrader": {
     "cell_type": "code",
     "checksum": "a2ea499cebe65d729f6936551b74269f",
     "grade": true,
     "grade_id": "problem_3_ag_p2_station_count_test1",
     "locked": true,
     "points": 0.5,
     "schema_version": 3,
     "solution": false
    }
   }
  },
  {
   "cell_type": "markdown",
   "source": [
    "### Part 3 (0 points)\n",
    "\n",
    "- Make a loop that iterates `n` times, and allocates stations to different geographical zones based on their coordinates. "
   ],
   "metadata": {
    "deletable": false,
    "editable": false,
    "nbgrader": {
     "cell_type": "markdown",
     "checksum": "75df142f1963df6673e972f62a96b430",
     "grade": false,
     "grade_id": "cell-86baf64c3b574d9a",
     "locked": true,
     "schema_version": 3,
     "solution": false
    }
   }
  },
  {
   "cell_type": "code",
   "execution_count": 21,
   "source": [
    "#YOUR CODE HERE\r\n",
    "north_west = []\r\n",
    "north_east = []\r\n",
    "south_west = []\r\n",
    "south_east = []\r\n",
    "\r\n",
    "for i in range(n):\r\n",
    "    if lats[i] > north_south_cutoff and lons[i] < east_west_cutoff:\r\n",
    "        north_west.append(stations[i])\r\n",
    "    elif lats[i] > north_south_cutoff and lons[i] > east_west_cutoff:\r\n",
    "        north_east.append(stations[i])\r\n",
    "    elif lats[i] < north_south_cutoff and lons[i] < east_west_cutoff:\r\n",
    "        south_west.append(stations[i])\r\n",
    "    elif lats[i] < north_south_cutoff and lons[i] > east_west_cutoff:\r\n",
    "        south_east.append(stations[i])\r\n",
    "\r\n",
    "print(north_west)\r\n",
    "\r\n",
    "\r\n"
   ],
   "outputs": [
    {
     "output_type": "stream",
     "name": "stdout",
     "text": [
      "['Kemi Kemi-Tornio airport', 'Rovaniemi Apukka', 'Siikajoki Ruukki', 'Ylitornio Meltosjärvi']\n"
     ]
    }
   ],
   "metadata": {
    "deletable": false,
    "nbgrader": {
     "cell_type": "code",
     "checksum": "524aaa474d18a0a90254509328875ec9",
     "grade": false,
     "grade_id": "problem_3_ag_p3_allocate_stations",
     "locked": false,
     "schema_version": 3,
     "solution": true
    }
   }
  },
  {
   "cell_type": "markdown",
   "source": [
    "### Part 4  (2 points)\n",
    "\n",
    "- In the following cells, you should print out the correct names for each geographical zone.\n",
    "    - We have given you the correct number of stations as a hint for each zone, so it is easier for you to know whether you have correct answer. "
   ],
   "metadata": {
    "deletable": false,
    "editable": false,
    "nbgrader": {
     "cell_type": "markdown",
     "checksum": "60c9f181193af751b9de11a7f45a1bc8",
     "grade": false,
     "grade_id": "cell-f448b8ec4ea497ba",
     "locked": true,
     "schema_version": 3,
     "solution": false
    }
   }
  },
  {
   "cell_type": "code",
   "execution_count": 22,
   "source": [
    "# This test print should print out station names in North West\r\n",
    "# Hint: there should be 4 stations in this class\r\n",
    "print(\"The names of the Northwest stations are:\\n\", north_west)"
   ],
   "outputs": [
    {
     "output_type": "stream",
     "name": "stdout",
     "text": [
      "The names of the Northwest stations are:\n",
      " ['Kemi Kemi-Tornio airport', 'Rovaniemi Apukka', 'Siikajoki Ruukki', 'Ylitornio Meltosjärvi']\n"
     ]
    }
   ],
   "metadata": {
    "deletable": false,
    "editable": false,
    "nbgrader": {
     "cell_type": "code",
     "checksum": "7057d2c57d2597c679d723224d156ed2",
     "grade": true,
     "grade_id": "problem_3_ag_p4_allocate_stations_test_nw",
     "locked": true,
     "points": 0.5,
     "schema_version": 3,
     "solution": false
    }
   }
  },
  {
   "cell_type": "code",
   "execution_count": 23,
   "source": [
    "# This test print should print out station names in North Eest\r\n",
    "# Hint: there should be 3 stations in this class\r\n",
    "print(\"The names of the Northeast stations are:\\n\", north_east)"
   ],
   "outputs": [
    {
     "output_type": "stream",
     "name": "stdout",
     "text": [
      "The names of the Northeast stations are:\n",
      " ['Kuusamo airport', 'Utsjoki Nuorgam', 'Vaala Pelso']\n"
     ]
    }
   ],
   "metadata": {
    "deletable": false,
    "editable": false,
    "nbgrader": {
     "cell_type": "code",
     "checksum": "76d723445e999c93e725dbf0e6330782",
     "grade": true,
     "grade_id": "problem_3_ag_p4_allocate_stations_test_ne",
     "locked": true,
     "points": 0.5,
     "schema_version": 3,
     "solution": false
    }
   }
  },
  {
   "cell_type": "code",
   "execution_count": 24,
   "source": [
    "# This test print should print out station names in South West\r\n",
    "# Hint: there should be 16 stations in this class\r\n",
    "print(\"The names of the Southwest stations are:\\n\", south_west)"
   ],
   "outputs": [
    {
     "output_type": "stream",
     "name": "stdout",
     "text": [
      "The names of the Southwest stations are:\n",
      " ['Hanko Russarö', 'Heinola Asemantaus', 'Helsinki Kaisaniemi', 'Helsinki Malmi airfield', 'Hyvinkää Hyvinkäänkylä', 'Joutsa Savenaho', 'Jyväskylä airport', 'Kaarina Yltöinen', 'Kauhava airfield', 'Mustasaari Valassaaret', 'Parainen Utö', 'Pori airport', 'Salo Kärkkä', 'Seinäjoki Pelmaa', 'Vaasa airport', 'Vihti Maasoja']\n"
     ]
    }
   ],
   "metadata": {
    "deletable": false,
    "editable": false,
    "nbgrader": {
     "cell_type": "code",
     "checksum": "70bcdc9e2b4d43d1ff1614214e7b8c09",
     "grade": true,
     "grade_id": "problem_3_ag_p4_allocate_stations_test_sw",
     "locked": true,
     "points": 0.5,
     "schema_version": 3,
     "solution": false
    }
   }
  },
  {
   "cell_type": "code",
   "execution_count": 25,
   "source": [
    "# This test print should print out station names in South East\r\n",
    "# Hint: there should be 11 stations in this class\r\n",
    "print(\"The names of the Southeast stations are:\\n\", south_east)"
   ],
   "outputs": [
    {
     "output_type": "stream",
     "name": "stdout",
     "text": [
      "The names of the Southeast stations are:\n",
      " ['Juuka Niemelä', 'Kotka Rankki', 'Kouvola Anjala', 'Kouvola Utti airport', 'Kuopio Maaninka', 'Lieksa Lampela', 'Savonlinna Punkaharju Laukansaari', 'Siilinjärvi Kuopio airport', 'Tohmajärvi Kemie', 'Vesanto Sonkari', 'Vieremä Kaarakkala']\n"
     ]
    }
   ],
   "metadata": {
    "deletable": false,
    "editable": false,
    "nbgrader": {
     "cell_type": "code",
     "checksum": "6082db286f10dfaf7b0ccf1968bc8dad",
     "grade": true,
     "grade_id": "problem_3_ag_p4_allocate_stations_test_se",
     "locked": true,
     "points": 0.5,
     "schema_version": 3,
     "solution": false
    }
   }
  },
  {
   "cell_type": "markdown",
   "source": [
    "### Part 5 (*1 point*)\n",
    "\n",
    "Here, we ask a few questions to make sure you have understand the concepts, etc. Answer shortly with a few sentences in the Markdown cell below.\n",
    "\n",
    "You can also write any feedback or questions concerning this problem in this Markdown cell.\n",
    "\n",
    "1. Is the concept of using the `and` operator and the difference between the `if`, `elif`, and `else` conditional statements clear to you? If not, what is difficult to understand?\n",
    "2. Did you include comments in your code blocks? If not, please add them now :)\n",
    "\n",
    "Write your answers below (double click to activate and edit the cell below)."
   ],
   "metadata": {
    "deletable": false,
    "editable": false,
    "nbgrader": {
     "cell_type": "markdown",
     "checksum": "e3d0bd71005c69ee9e21b15d1e66703b",
     "grade": false,
     "grade_id": "cell-76781d52bc8f568f",
     "locked": true,
     "schema_version": 3,
     "solution": false
    }
   }
  },
  {
   "cell_type": "markdown",
   "source": [
    "YOUR ANSWER HERE"
   ],
   "metadata": {
    "collapsed": true,
    "deletable": false,
    "nbgrader": {
     "cell_type": "markdown",
     "checksum": "8dbb92dc2d67c5c172560786ec580985",
     "grade": true,
     "grade_id": "problem_3_mg_p5_style_assessment",
     "locked": false,
     "points": 1,
     "schema_version": 3,
     "solution": true
    }
   }
  },
  {
   "cell_type": "markdown",
   "source": [
    "### Part 6 (*optional*; 0 points)\r\n",
    "\r\n",
    "- Print the percentage of stations in each geographical zone\r\n",
    "    - Store the answers into variables:\r\n",
    "        - `north_west_share`\r\n",
    "        - `north_east_share`\r\n",
    "        - `south_west_share`\r\n",
    "        - `south_east_share`"
   ],
   "metadata": {
    "deletable": false,
    "editable": false,
    "nbgrader": {
     "cell_type": "markdown",
     "checksum": "55fb2c02ec5ce264f1e955b1e07640cf",
     "grade": false,
     "grade_id": "cell-d4b559885f7f59c2",
     "locked": true,
     "schema_version": 3,
     "solution": false
    }
   }
  },
  {
   "cell_type": "code",
   "execution_count": 28,
   "source": [
    "# YOUR CODE HERE\r\n",
    "north_west_share = len(north_west)/n * 100\r\n",
    "north_east_share = len(north_east)/n * 100\r\n",
    "south_west_share = len(south_west)/n * 100\r\n",
    "south_east_share = len(south_east)/n * 100 \r\n"
   ],
   "outputs": [],
   "metadata": {
    "deletable": false,
    "nbgrader": {
     "cell_type": "code",
     "checksum": "fafcffbc8c1618382934bff39c963099",
     "grade": false,
     "grade_id": "problem_3_ag_p6_station_percentage",
     "locked": false,
     "schema_version": 3,
     "solution": true
    }
   }
  },
  {
   "cell_type": "markdown",
   "source": [
    "- Print the results following format: \"Northwest contains 99 % of all stations.\" (this is an example not a correct answer)"
   ],
   "metadata": {
    "deletable": false,
    "editable": false,
    "nbgrader": {
     "cell_type": "markdown",
     "checksum": "25a2354980cc4b20ac74cb038f6ff70f",
     "grade": false,
     "grade_id": "cell-0b1ab3acecf88dc2",
     "locked": true,
     "schema_version": 3,
     "solution": false
    }
   }
  },
  {
   "cell_type": "code",
   "execution_count": null,
   "source": [
    "# Print the information (you don't need to modify this)\r\n",
    "# .format() is a Python function that can be used to easily insert values inside a text-template such as below.\r\n",
    "# .0f below is a specific operator that rounds the decimal values into whole numbers\r\n",
    "print(\"Northwest contains{share: .0f} % of all stations.\".format(share=north_west_share))\r\n",
    "print(\"Northeast contains{share: .0f} % of all stations.\".format(share=north_east_share))\r\n",
    "print(\"Southwest contains{share: .0f} % of all stations.\".format(share=south_west_share))\r\n",
    "print(\"Southeast contains{share: .0f} % of all stations.\".format(share=south_east_share))\r\n"
   ],
   "outputs": [],
   "metadata": {
    "deletable": false,
    "editable": false,
    "nbgrader": {
     "cell_type": "code",
     "checksum": "1b942572cdf70a40bc3535c516e823cc",
     "grade": true,
     "grade_id": "problem_3_ag_p6_station_percentage_test1",
     "locked": true,
     "points": 0,
     "schema_version": 3,
     "solution": false
    }
   }
  },
  {
   "cell_type": "markdown",
   "source": [
    "### Done!\n",
    "\n",
    "That's it! Now you have finished all the assignments for this week!\n",
    "\n",
    "If you want, you can still continue with the *optional* (but fun!) [Problem 4](Exercise-3-problem-4.ipynb)."
   ],
   "metadata": {
    "deletable": false,
    "editable": false,
    "nbgrader": {
     "cell_type": "markdown",
     "checksum": "5f76ffe0e86dc86104b970cae69049a8",
     "grade": false,
     "grade_id": "cell-3f9de2a687973d48",
     "locked": true,
     "schema_version": 3,
     "solution": false
    }
   }
  }
 ],
 "metadata": {
  "kernelspec": {
   "name": "python3",
   "display_name": "Python 3.9.6 64-bit"
  },
  "language_info": {
   "codemirror_mode": {
    "name": "ipython",
    "version": 3
   },
   "file_extension": ".py",
   "mimetype": "text/x-python",
   "name": "python",
   "nbconvert_exporter": "python",
   "pygments_lexer": "ipython3",
   "version": "3.9.6"
  },
  "interpreter": {
   "hash": "63fd5069d213b44bf678585dea6b12cceca9941eaf7f819626cde1f2670de90d"
  }
 },
 "nbformat": 4,
 "nbformat_minor": 2
}