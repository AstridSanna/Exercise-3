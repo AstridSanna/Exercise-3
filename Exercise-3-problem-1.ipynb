{
 "cells": [
  {
   "cell_type": "markdown",
   "source": [
    "## Before starting\n",
    "\n",
    "Test that your Python version is up-to-date. Our automatic grading system requires to have IPython version which is higher than 3. Test your version by running following cell (shift + Enter):"
   ],
   "metadata": {
    "deletable": false,
    "editable": false,
    "nbgrader": {
     "cell_type": "markdown",
     "checksum": "6cb548801b0eb18badd95814484106b9",
     "grade": false,
     "grade_id": "cell-c2bc9538fc9e32a0",
     "locked": true,
     "schema_version": 3,
     "solution": false
    }
   }
  },
  {
   "cell_type": "code",
   "execution_count": 1,
   "source": [
    "import IPython\r\n",
    "assert IPython.version_info[0] >= 3, \"Your version of IPython is too old, please update it. Ask help, if you don't know how.\"\r\n",
    "print(\"Your system is okay, you can continue! :) \")"
   ],
   "outputs": [
    {
     "output_type": "stream",
     "name": "stdout",
     "text": [
      "Your system is okay, you can continue! :) \n"
     ]
    }
   ],
   "metadata": {
    "deletable": false,
    "editable": false,
    "nbgrader": {
     "cell_type": "code",
     "checksum": "389773f30124c7963871c8a676dbd460",
     "grade": false,
     "grade_id": "cell-350050080060ed44",
     "locked": true,
     "schema_version": 3,
     "solution": false
    }
   }
  },
  {
   "cell_type": "markdown",
   "source": [
    "## Problem 1 - Batch processing data files with a `for` loop (*2 points*)\n",
    "\n",
    "This problem is meant to simulate a common problem dealing with data files: batch processing.\n",
    "\n",
    "Batch processing involves using scripts to repeat a process with many data files, and one common task is generating a list of filenames that will be processed or saved to disk.\n",
    "\n",
    "For this problem you will need to modify the code blocks below and add code to produce the desired outcomes. \n",
    "\n",
    "**Notice**: Closely follow the instructions! For example, you should be sure to use **exactly** the same variable names mentioned in the instructions because your answers will be automatically graded, and the tests that grade your answers rely on following the same formatting or variable naming as in the instructions.\n",
    "\n",
    "**Your score on this problem will be based on following criteria:**\n",
    "\n",
    " - Creating and using variables to produce the desired text format\n",
    " - Successfully using a for loop to iterate over desired set of numbers\n",
    " - Successfully producing the desired filename(s)\n",
    " - Including comments that explain what most lines in the code do\n",
    " - Answering a couple questions at the end of the problem\n",
    " - Uploading your notebook to your GitHub repository for this week's exercise"
   ],
   "metadata": {
    "deletable": false,
    "editable": false,
    "nbgrader": {
     "cell_type": "markdown",
     "checksum": "05e8ce8fe98406897c9f816e78c62bf2",
     "grade": false,
     "grade_id": "cell-348fe9af7be22c87",
     "locked": true,
     "schema_version": 3,
     "solution": false
    }
   }
  },
  {
   "cell_type": "markdown",
   "source": [
    "### Part 1 (0.3 points)\n",
    "\n",
    "- Create a new variable called `basename` that contains text `\"Station\"`."
   ],
   "metadata": {
    "deletable": false,
    "editable": false,
    "nbgrader": {
     "cell_type": "markdown",
     "checksum": "bcd6925e914a6783497f4bf0b4c47bdb",
     "grade": false,
     "grade_id": "cell-f9b41a4eab2aca48",
     "locked": true,
     "schema_version": 3,
     "solution": false
    }
   }
  },
  {
   "cell_type": "code",
   "execution_count": 38,
   "source": [
    "# YOUR CODE HERE\r\n",
    "basename = \"Station\""
   ],
   "outputs": [],
   "metadata": {
    "deletable": false,
    "nbgrader": {
     "cell_type": "code",
     "checksum": "12e040b9eb0362590bfaff7375465c02",
     "grade": false,
     "grade_id": "problem_1_ag_p1_station_name",
     "locked": false,
     "schema_version": 3,
     "solution": true
    }
   }
  },
  {
   "cell_type": "code",
   "execution_count": 3,
   "source": [
    "# Test print of the variable\r\n",
    "print(basename)"
   ],
   "outputs": [
    {
     "output_type": "stream",
     "name": "stdout",
     "text": [
      "['Station']\n"
     ]
    }
   ],
   "metadata": {
    "deletable": false,
    "editable": false,
    "nbgrader": {
     "cell_type": "code",
     "checksum": "3ca25194f05070ef084a47d7690e306b",
     "grade": true,
     "grade_id": "problem_1_ag_p1_station_name_test1",
     "locked": true,
     "points": 0.1,
     "schema_version": 3,
     "solution": false
    }
   }
  },
  {
   "cell_type": "markdown",
   "source": [
    "\n",
    "- Create a new variable `filenames` that is an empty list."
   ],
   "metadata": {
    "deletable": false,
    "editable": false,
    "nbgrader": {
     "cell_type": "markdown",
     "checksum": "cc7a315a61e7c7153465f8c0de6c3d0f",
     "grade": false,
     "grade_id": "cell-90f13269de45ecdb",
     "locked": true,
     "schema_version": 3,
     "solution": false
    }
   }
  },
  {
   "cell_type": "code",
   "execution_count": 39,
   "source": [
    "# YOUR CODE HERE\r\n",
    "filenames = []"
   ],
   "outputs": [],
   "metadata": {
    "deletable": false,
    "nbgrader": {
     "cell_type": "code",
     "checksum": "47f302ce4fe78bd985e7a5a42b2a56a4",
     "grade": false,
     "grade_id": "problem_1_ag_p1_empty_filenames_list",
     "locked": false,
     "schema_version": 3,
     "solution": true
    }
   }
  },
  {
   "cell_type": "code",
   "execution_count": 35,
   "source": [
    "# Test print of the variable\r\n",
    "print(filenames)"
   ],
   "outputs": [
    {
     "output_type": "stream",
     "name": "stdout",
     "text": [
      "[]\n"
     ]
    }
   ],
   "metadata": {
    "deletable": false,
    "editable": false,
    "nbgrader": {
     "cell_type": "code",
     "checksum": "4e8f81b7844bb9441d9ba81f295d18de",
     "grade": true,
     "grade_id": "problem_1_ag_p1_empty_filenames_list_test1",
     "locked": true,
     "points": 0.2,
     "schema_version": 3,
     "solution": false
    }
   }
  },
  {
   "cell_type": "markdown",
   "source": [
    "### Part 2 (1.7 points)\n",
    "\n",
    "- Using a `for` loop iterate over the number range 0-20 and within the loop:\n",
    "    - Create a variable `station` that contains the 1) text from `basename` variable, 2) the number, and 3) the file extension `.txt`  \n",
    "    - Add the content of `station` to `filenames` list which should have following content in the end:\n",
    "\n",
    "      ```\n",
    "      ['Station_0.txt', 'Station_1.txt', 'Station_2.txt', 'Station_3.txt',\n",
    "       'Station_4.txt', 'Station_5.txt', 'Station_6.txt', 'Station_7.txt',\n",
    "       'Station_8.txt', 'Station_9.txt', 'Station_10.txt', 'Station_11.txt',\n",
    "       'Station_12.txt', 'Station_13.txt', 'Station_14.txt', 'Station_15.txt',\n",
    "       'Station_16.txt', 'Station_17.txt', 'Station_18.txt', 'Station_19.txt',\n",
    "       'Station_20.txt']\n",
    "      ```"
   ],
   "metadata": {
    "deletable": false,
    "editable": false,
    "nbgrader": {
     "cell_type": "markdown",
     "checksum": "5550bc34d39cf5ebef73e845acd79287",
     "grade": false,
     "grade_id": "cell-341524f278e72900",
     "locked": true,
     "schema_version": 3,
     "solution": false
    }
   }
  },
  {
   "cell_type": "code",
   "execution_count": 40,
   "source": [
    "# YOUR CODE HERE\r\n",
    "for i in range(21): \r\n",
    "    station = str(basename) + \"_\" + str(i) + \".txt\"\r\n",
    "    filenames.append(station)\r\n",
    "print(filenames)\r\n",
    "  "
   ],
   "outputs": [
    {
     "output_type": "stream",
     "name": "stdout",
     "text": [
      "['Station_0.txt', 'Station_1.txt', 'Station_2.txt', 'Station_3.txt', 'Station_4.txt', 'Station_5.txt', 'Station_6.txt', 'Station_7.txt', 'Station_8.txt', 'Station_9.txt', 'Station_10.txt', 'Station_11.txt', 'Station_12.txt', 'Station_13.txt', 'Station_14.txt', 'Station_15.txt', 'Station_16.txt', 'Station_17.txt', 'Station_18.txt', 'Station_19.txt', 'Station_20.txt']\n"
     ]
    }
   ],
   "metadata": {
    "deletable": false,
    "nbgrader": {
     "cell_type": "code",
     "checksum": "ba03f859005ebdf315b63b4ef092075a",
     "grade": false,
     "grade_id": "problem_1_ag_p2_populate_filenames_list",
     "locked": false,
     "schema_version": 3,
     "solution": true
    }
   }
  },
  {
   "cell_type": "code",
   "execution_count": null,
   "source": [
    "# Test print of the results\r\n",
    "print(filenames)"
   ],
   "outputs": [],
   "metadata": {
    "deletable": false,
    "editable": false,
    "nbgrader": {
     "cell_type": "code",
     "checksum": "4a04048eb48df0e6cfdaf86c0b44bdce",
     "grade": true,
     "grade_id": "problem_1_ag_p2_populate_filenames_list_test1",
     "locked": true,
     "points": 0.2,
     "schema_version": 3,
     "solution": false
    }
   }
  },
  {
   "cell_type": "code",
   "execution_count": null,
   "source": [
    "# Check that the value of the last station is correct\r\n",
    "# Note! This test assumes that you used the variable `station` inside the for-loop\r\n",
    "assert station.lower().strip() == 'station_20.txt', 'The value of the last station is not correct'"
   ],
   "outputs": [],
   "metadata": {
    "deletable": false,
    "editable": false,
    "nbgrader": {
     "cell_type": "code",
     "checksum": "cd75aa8df90c4b9f5601e38e3cff7f38",
     "grade": true,
     "grade_id": "problem_1_ag_p2_populate_filenames_list_test2",
     "locked": true,
     "points": 0.5,
     "schema_version": 3,
     "solution": false
    }
   }
  },
  {
   "cell_type": "code",
   "execution_count": null,
   "source": [
    "# Check that there are 21 values in the list\r\n",
    "assert len(filenames) == 21, 'The length of the list \"filenames\" should be 21'"
   ],
   "outputs": [],
   "metadata": {
    "deletable": false,
    "editable": false,
    "nbgrader": {
     "cell_type": "code",
     "checksum": "12c321deff384a2e5f31ba1c4f073a97",
     "grade": true,
     "grade_id": "problem_1_ag_p2_populate_filenames_list_test3",
     "locked": true,
     "points": 1,
     "schema_version": 3,
     "solution": false
    }
   }
  },
  {
   "cell_type": "markdown",
   "source": [
    "### Part 3 (0 points)\n",
    "\n",
    "Here, we ask a few questions to make sure you have understand the concepts, etc. Answer shortly with a few sentences in the Markdown cell below.\n",
    "\n",
    "You can also write any feedback or questions concerning this problem in this Markdown cell.\n",
    "\n",
    "1. Is the concept of a loop clear to you? If not, what is difficult to understand?\n",
    "2. Did you include comments in your code blocks? If not, please add them now :)\n",
    "  \n",
    "Write your answers below (double click to activate and edit the cell below)."
   ],
   "metadata": {
    "deletable": false,
    "editable": false,
    "nbgrader": {
     "cell_type": "markdown",
     "checksum": "51c80ecfebe5672b8af2c02eb6269146",
     "grade": false,
     "grade_id": "cell-8a96733ac5a7e13b",
     "locked": true,
     "schema_version": 3,
     "solution": false
    }
   }
  },
  {
   "cell_type": "markdown",
   "source": [
    "YOUR ANSWER HERE"
   ],
   "metadata": {
    "deletable": false,
    "nbgrader": {
     "cell_type": "markdown",
     "checksum": "445b71229ad071b770ab619718e28eb1",
     "grade": true,
     "grade_id": "problem_1_mg_p3_style_assessment",
     "locked": false,
     "points": 0,
     "schema_version": 3,
     "solution": true
    }
   }
  },
  {
   "cell_type": "markdown",
   "source": [
    "### Done!\n",
    "\n",
    "That's it! Now you are ready to continue with [Problem 2](Exercise-3-problem-2.ipynb)."
   ],
   "metadata": {
    "deletable": false,
    "editable": false,
    "nbgrader": {
     "cell_type": "markdown",
     "checksum": "f14e22621ff1309c35e49997f99456a4",
     "grade": false,
     "grade_id": "cell-efadc431fa79d91b",
     "locked": true,
     "schema_version": 3,
     "solution": false
    }
   }
  }
 ],
 "metadata": {
  "anaconda-cloud": {},
  "kernelspec": {
   "name": "python3",
   "display_name": "Python 3.9.6 64-bit"
  },
  "language_info": {
   "codemirror_mode": {
    "name": "ipython",
    "version": 3
   },
   "file_extension": ".py",
   "mimetype": "text/x-python",
   "name": "python",
   "nbconvert_exporter": "python",
   "pygments_lexer": "ipython3",
   "version": "3.9.6"
  },
  "interpreter": {
   "hash": "63fd5069d213b44bf678585dea6b12cceca9941eaf7f819626cde1f2670de90d"
  }
 },
 "nbformat": 4,
 "nbformat_minor": 2
}