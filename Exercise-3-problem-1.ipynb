{
 "cells": [
  {
   "cell_type": "markdown",
   "metadata": {
    "deletable": false,
    "editable": false,
    "nbgrader": {
     "cell_type": "markdown",
     "checksum": "6cb548801b0eb18badd95814484106b9",
     "grade": false,
     "grade_id": "cell-c2bc9538fc9e32a0",
     "locked": true,
     "schema_version": 3,
     "solution": false
    }
   },
   "source": [
    "## Before starting\n",
    "\n",
    "Test that your Python version is up-to-date. Our automatic grading system requires to have IPython version which is higher than 3. Test your version by running following cell (shift + Enter):"
   ]
  },
  {
   "cell_type": "code",
   "execution_count": null,
   "metadata": {
    "deletable": false,
    "editable": false,
    "nbgrader": {
     "cell_type": "code",
     "checksum": "389773f30124c7963871c8a676dbd460",
     "grade": false,
     "grade_id": "cell-350050080060ed44",
     "locked": true,
     "schema_version": 3,
     "solution": false
    }
   },
   "outputs": [],
   "source": [
    "import IPython\n",
    "assert IPython.version_info[0] >= 3, \"Your version of IPython is too old, please update it. Ask help, if you don't know how.\"\n",
    "print(\"Your system is okay, you can continue! :) \")"
   ]
  },
  {
   "cell_type": "markdown",
   "metadata": {
    "deletable": false,
    "editable": false,
    "nbgrader": {
     "cell_type": "markdown",
     "checksum": "05e8ce8fe98406897c9f816e78c62bf2",
     "grade": false,
     "grade_id": "cell-348fe9af7be22c87",
     "locked": true,
     "schema_version": 3,
     "solution": false
    }
   },
   "source": [
    "## Problem 1 - Batch processing data files with a `for` loop (*2 points*)\n",
    "\n",
    "This problem is meant to simulate a common problem dealing with data files: batch processing.\n",
    "\n",
    "Batch processing involves using scripts to repeat a process with many data files, and one common task is generating a list of filenames that will be processed or saved to disk.\n",
    "\n",
    "For this problem you will need to modify the code blocks below and add code to produce the desired outcomes. \n",
    "\n",
    "**Notice**: Closely follow the instructions! For example, you should be sure to use **exactly** the same variable names mentioned in the instructions because your answers will be automatically graded, and the tests that grade your answers rely on following the same formatting or variable naming as in the instructions.\n",
    "\n",
    "**Your score on this problem will be based on following criteria:**\n",
    "\n",
    " - Creating and using variables to produce the desired text format\n",
    " - Successfully using a for loop to iterate over desired set of numbers\n",
    " - Successfully producing the desired filename(s)\n",
    " - Including comments that explain what most lines in the code do\n",
    " - Answering a couple questions at the end of the problem\n",
    " - Uploading your notebook to your GitHub repository for this week's exercise"
   ]
  },
  {
   "cell_type": "markdown",
   "metadata": {
    "deletable": false,
    "editable": false,
    "nbgrader": {
     "cell_type": "markdown",
     "checksum": "263189abf92f2ff64ce449f0d125e1af",
     "grade": false,
     "grade_id": "cell-f9b41a4eab2aca48",
     "locked": true,
     "schema_version": 3,
     "solution": false
    }
   },
   "source": [
    "### Part 1\n",
    "\n",
    "- Create a new variable called `basename` that contains text `\"Station\"`."
   ]
  },
  {
   "cell_type": "code",
   "execution_count": null,
   "metadata": {
    "deletable": false,
    "nbgrader": {
     "cell_type": "code",
     "checksum": "000a7d2accf2bc6af377d26f1e5e71a9",
     "grade": false,
     "grade_id": "station_name",
     "locked": false,
     "schema_version": 3,
     "solution": true
    }
   },
   "outputs": [],
   "source": [
    "# REPLACE THE ERROR BELOW WITH YOUR OWN CODE\n",
    "raise NotImplementedError()"
   ]
  },
  {
   "cell_type": "code",
   "execution_count": null,
   "metadata": {
    "deletable": false,
    "editable": false,
    "nbgrader": {
     "cell_type": "code",
     "checksum": "8b6152ba6efa3cad907546485288180d",
     "grade": true,
     "grade_id": "problem_1_station_name_test",
     "locked": true,
     "points": 0.1,
     "schema_version": 3,
     "solution": false
    }
   },
   "outputs": [],
   "source": [
    "# Test print of the variable\n",
    "print(basename)"
   ]
  },
  {
   "cell_type": "markdown",
   "metadata": {
    "deletable": false,
    "editable": false,
    "nbgrader": {
     "cell_type": "markdown",
     "checksum": "cc7a315a61e7c7153465f8c0de6c3d0f",
     "grade": false,
     "grade_id": "cell-90f13269de45ecdb",
     "locked": true,
     "schema_version": 3,
     "solution": false
    }
   },
   "source": [
    "\n",
    "- Create a new variable `filenames` that is an empty list."
   ]
  },
  {
   "cell_type": "code",
   "execution_count": null,
   "metadata": {
    "deletable": false,
    "nbgrader": {
     "cell_type": "code",
     "checksum": "b54041b1f5c6380f5aa4266041a85429",
     "grade": false,
     "grade_id": "empty_filenames_list",
     "locked": false,
     "schema_version": 3,
     "solution": true
    }
   },
   "outputs": [],
   "source": [
    "# REPLACE THE ERROR BELOW WITH YOUR OWN CODE\n",
    "raise NotImplementedError()"
   ]
  },
  {
   "cell_type": "code",
   "execution_count": null,
   "metadata": {
    "deletable": false,
    "editable": false,
    "nbgrader": {
     "cell_type": "code",
     "checksum": "8d18492e35966a2caa9d5a1a810a204a",
     "grade": true,
     "grade_id": "problem_1_empty_filenames_list_test",
     "locked": true,
     "points": 0.2,
     "schema_version": 3,
     "solution": false
    }
   },
   "outputs": [],
   "source": [
    "# Test print of the variable\n",
    "print(filenames)"
   ]
  },
  {
   "cell_type": "markdown",
   "metadata": {
    "deletable": false,
    "editable": false,
    "nbgrader": {
     "cell_type": "markdown",
     "checksum": "1151dd1e65b19b46b6da76c78c41c6e7",
     "grade": false,
     "grade_id": "cell-341524f278e72900",
     "locked": true,
     "schema_version": 3,
     "solution": false
    }
   },
   "source": [
    "### Part 2\n",
    "\n",
    "- Using a `for` loop iterate over the number range 0-20 and within the loop:\n",
    "    - Create a variable `station` that contains the 1) text from `basename` variable, 2) the number, and 3) the file extension `.txt`  \n",
    "    - Add the content of `station` to `filenames` list which should have following content in the end:\n",
    "\n",
    "      ```\n",
    "      ['Station_0.txt', 'Station_1.txt', 'Station_2.txt', 'Station_3.txt',\n",
    "       'Station_4.txt', 'Station_5.txt', 'Station_6.txt', 'Station_7.txt',\n",
    "       'Station_8.txt', 'Station_9.txt', 'Station_10.txt', 'Station_11.txt',\n",
    "       'Station_12.txt', 'Station_13.txt', 'Station_14.txt', 'Station_15.txt',\n",
    "       'Station_16.txt', 'Station_17.txt', 'Station_18.txt', 'Station_19.txt',\n",
    "       'Station_20.txt']\n",
    "      ```"
   ]
  },
  {
   "cell_type": "code",
   "execution_count": null,
   "metadata": {
    "deletable": false,
    "nbgrader": {
     "cell_type": "code",
     "checksum": "b90236ca99afd0aaf0602ec7b5747198",
     "grade": false,
     "grade_id": "populate_filenames_list",
     "locked": false,
     "schema_version": 3,
     "solution": true
    }
   },
   "outputs": [],
   "source": [
    "# REPLACE THE ERROR BELOW WITH YOUR OWN CODE\n",
    "raise NotImplementedError()"
   ]
  },
  {
   "cell_type": "code",
   "execution_count": null,
   "metadata": {
    "deletable": false,
    "editable": false,
    "nbgrader": {
     "cell_type": "code",
     "checksum": "5d5c67c98cac62a1d18523632172e27a",
     "grade": true,
     "grade_id": "problem_1_populate_filenames_list_test1",
     "locked": true,
     "points": 0.2,
     "schema_version": 3,
     "solution": false
    }
   },
   "outputs": [],
   "source": [
    "# Test print of the results\n",
    "print(filenames)"
   ]
  },
  {
   "cell_type": "code",
   "execution_count": null,
   "metadata": {
    "deletable": false,
    "editable": false,
    "nbgrader": {
     "cell_type": "code",
     "checksum": "7d383bbe350497c9bdf38bfd27cab9e2",
     "grade": true,
     "grade_id": "problem_1_populate_filenames_list_test2",
     "locked": true,
     "points": 0.5,
     "schema_version": 3,
     "solution": false
    }
   },
   "outputs": [],
   "source": [
    "# Check that the value of the last station is correct\n",
    "# Note! This test assumes that you used the variable `station` inside the for-loop\n",
    "assert station.lower().strip() == 'station_20.txt', 'The value of the last station is not correct'"
   ]
  },
  {
   "cell_type": "code",
   "execution_count": null,
   "metadata": {
    "deletable": false,
    "editable": false,
    "nbgrader": {
     "cell_type": "code",
     "checksum": "5170b7f2f1d9554b8b1000929992b731",
     "grade": true,
     "grade_id": "problem_1_populate_filenames_list_test3",
     "locked": true,
     "points": 1,
     "schema_version": 3,
     "solution": false
    }
   },
   "outputs": [],
   "source": [
    "# Check that there are 21 values in the list\n",
    "assert len(filenames) == 21, 'The length of the list \"filenames\" should be 21'"
   ]
  },
  {
   "cell_type": "markdown",
   "metadata": {
    "deletable": false,
    "editable": false,
    "nbgrader": {
     "cell_type": "markdown",
     "checksum": "e110c63e888ca67f39b6e36b111b7a7c",
     "grade": false,
     "grade_id": "cell-8a96733ac5a7e13b",
     "locked": true,
     "schema_version": 3,
     "solution": false
    }
   },
   "source": [
    "### Part 3\n",
    "\n",
    "Here, we ask a few questions to make sure you have understand the concepts, etc. Answer shortly with a few sentences in the Markdown cell below.\n",
    "\n",
    "You can also write any feedback or questions concerning this problem in this Markdown cell.\n",
    "\n",
    "1. Is the concept of a loop clear to you? If not, what is difficult to understand?\n",
    "2. Did you include comments in your code blocks? If not, please add them now :)\n",
    "  \n",
    "Write your answers below (double click to activate and edit the cell below)."
   ]
  },
  {
   "cell_type": "markdown",
   "metadata": {
    "deletable": false,
    "nbgrader": {
     "cell_type": "markdown",
     "checksum": "f8211320d1f2b5ddca69914796aaf04b",
     "grade": true,
     "grade_id": "problem_1_style_assessment",
     "locked": false,
     "points": 0,
     "schema_version": 3,
     "solution": true
    }
   },
   "source": [
    "YOUR ANSWER HERE"
   ]
  },
  {
   "cell_type": "markdown",
   "metadata": {
    "deletable": false,
    "editable": false,
    "nbgrader": {
     "cell_type": "markdown",
     "checksum": "f14e22621ff1309c35e49997f99456a4",
     "grade": false,
     "grade_id": "cell-efadc431fa79d91b",
     "locked": true,
     "schema_version": 3,
     "solution": false
    }
   },
   "source": [
    "### Done!\n",
    "\n",
    "That's it! Now you are ready to continue with [Problem 2](Exercise-3-problem-2.ipynb)."
   ]
  }
 ],
 "metadata": {
  "anaconda-cloud": {},
  "kernelspec": {
   "display_name": "Python 3",
   "language": "python",
   "name": "python3"
  },
  "language_info": {
   "codemirror_mode": {
    "name": "ipython",
    "version": 3
   },
   "file_extension": ".py",
   "mimetype": "text/x-python",
   "name": "python",
   "nbconvert_exporter": "python",
   "pygments_lexer": "ipython3",
   "version": "3.7.6"
  }
 },
 "nbformat": 4,
 "nbformat_minor": 2
}
