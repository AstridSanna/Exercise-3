{
 "cells": [
  {
   "cell_type": "markdown",
   "source": [
    "## Problem 4 - Nested `for` loops (*optional, does not affect grading*)\r\n",
    "\r\n",
    "**Warning:** This is a difficult problem. Try to do this task only if you have confidence in programming, and you are up for a little challenge. :) \r\n",
    "\r\n",
    "In addition to having single `for` loops that iterate across some variable range, it is possible to *nest* `for` loops within one another.\r\n",
    "\r\n",
    "Consider the example below:\r\n",
    "\r\n",
    "```python\r\n",
    ">>> for char in 'dog':\r\n",
    "...     for char2 in 'cat':\r\n",
    "...         print (char, char2)\r\n",
    "    d c\r\n",
    "    d a\r\n",
    "    d t\r\n",
    "    o c\r\n",
    "    o a\r\n",
    "    o t\r\n",
    "    g c\r\n",
    "    g a\r\n",
    "    g t\r\n",
    "```\r\n",
    "\r\n",
    "Here, you can see that in the first pass through the first `for` loop, the value of `char` is `d`.\r\n",
    "Entering the inner (or nested) loop, `char2` is set to `c`.\r\n",
    "After this, the output is written to the screen and since there are more letters to loop over in the inner `for` loop, the value of `char2` will be updated upon the next pass.\r\n",
    "The second time through the inner loop, `char2` is set to `a` while `char` remains `d`.\r\n",
    "Like this, the inner loop will run through all of the letters in `cat` for each time that `char` is updated in the outer loop.\r\n",
    "It doesn't take too much imagination to figure out this is a very useful concept.\r\n",
    "\r\n",
    "For this problem you should do following:\r\n",
    "\r\n",
    "1. Create a variable `star` with text `\"*\"` and an empty string variable `text`. Recall, you can created empty string variables by assigning `\"\"` as their value.\r\n",
    "2. Use nested `for` loops and the variables above to produce the text formation below when `print(text)` is run at the end of your script.\r\n",
    "\r\n",
    "    ```\r\n",
    "    *******\r\n",
    "    *******\r\n",
    "    *******\r\n",
    "    ```\r\n",
    "3. Create a variable `line` with text `\"-\"` and an empty string variable `flag`.\r\n",
    "4. Use nested `for` loops and the variables above to produce the text formation below when `print(flag)` is run at the end of your script. **Note**: You will need to use conditional statements to produce the desired output.\r\n",
    "\r\n",
    "    ```\r\n",
    "    *******------------\r\n",
    "    *******------------\r\n",
    "    *******------------\r\n",
    "    -------------------\r\n",
    "    -------------------\r\n",
    "    ```\r\n"
   ],
   "metadata": {
    "deletable": false,
    "editable": false,
    "nbgrader": {
     "cell_type": "markdown",
     "checksum": "f2fbfe52c9020182146779190aaf0578",
     "grade": false,
     "grade_id": "cell-0f5198aff98ef512",
     "locked": true,
     "schema_version": 3,
     "solution": false
    }
   }
  },
  {
   "cell_type": "markdown",
   "source": [
    "### Part 1\n",
    "\n",
    "- Your code for producing the asterisk square:"
   ],
   "metadata": {
    "deletable": false,
    "editable": false,
    "nbgrader": {
     "cell_type": "markdown",
     "checksum": "026e500238563002ae1a96932c15e5d7",
     "grade": false,
     "grade_id": "cell-4e5ab82001ecb87e",
     "locked": true,
     "schema_version": 3,
     "solution": false
    }
   }
  },
  {
   "cell_type": "code",
   "execution_count": 38,
   "source": [
    "# YOUR CODE HERE\r\n",
    "star = \"*\"\r\n",
    "text = \"\"\r\n",
    "\r\n",
    "for i in range(3):\r\n",
    "    for j in star:\r\n",
    "        text = star * 7\r\n",
    "        print(text)"
   ],
   "outputs": [
    {
     "output_type": "stream",
     "name": "stdout",
     "text": [
      "*******\n",
      "*******\n",
      "*******\n"
     ]
    }
   ],
   "metadata": {
    "deletable": false,
    "nbgrader": {
     "cell_type": "code",
     "checksum": "8aa5876aa49f226b72a0b533a4b50cb0",
     "grade": false,
     "grade_id": "problem_4_ag_p1_asterix_square",
     "locked": false,
     "schema_version": 3,
     "solution": true
    }
   }
  },
  {
   "cell_type": "code",
   "execution_count": 39,
   "source": [
    "print(text)"
   ],
   "outputs": [
    {
     "output_type": "stream",
     "name": "stdout",
     "text": [
      "*******\n"
     ]
    }
   ],
   "metadata": {}
  },
  {
   "cell_type": "code",
   "execution_count": 46,
   "source": [
    "line = \"-\" \r\n",
    "flag = \"\"\r\n",
    "# * 3 rows of 7 + 12 \"-\" total 19 characters \r\n",
    "# 5 line totals, last 2 lines only 19 \"-\""
   ],
   "outputs": [],
   "metadata": {}
  },
  {
   "cell_type": "code",
   "execution_count": 48,
   "source": [
    "\r\n",
    "for i in range(5):\r\n",
    "    for j in star:\r\n",
    "        for k in line:\r\n",
    "            if i <= 2:\r\n",
    "                flag = (star * 7) + (k * 12)\r\n",
    "                print(flag)\r\n",
    "            elif i > 2:\r\n",
    "                flag = k * 19\r\n",
    "                print(flag)\r\n",
    "    "
   ],
   "outputs": [
    {
     "output_type": "stream",
     "name": "stdout",
     "text": [
      "*******------------\n",
      "*******------------\n",
      "*******------------\n",
      "-------------------\n",
      "-------------------\n"
     ]
    }
   ],
   "metadata": {}
  },
  {
   "cell_type": "code",
   "execution_count": 49,
   "source": [
    "# simpler way to build the flag\r\n",
    "for line in range(5):\r\n",
    "    if line < 3:\r\n",
    "        print(7 * \"*\" + 12 * \"-\")\r\n",
    "    else:\r\n",
    "        print(19 * \"-\")"
   ],
   "outputs": [
    {
     "output_type": "error",
     "ename": "NameError",
     "evalue": "name 'lline' is not defined",
     "traceback": [
      "\u001b[1;31m---------------------------------------------------------------------------\u001b[0m",
      "\u001b[1;31mNameError\u001b[0m                                 Traceback (most recent call last)",
      "\u001b[1;32m~\\AppData\\Local\\Temp/ipykernel_104956/3157524059.py\u001b[0m in \u001b[0;36m<module>\u001b[1;34m\u001b[0m\n\u001b[0;32m      1\u001b[0m \u001b[1;31m# simpler way to build the flag\u001b[0m\u001b[1;33m\u001b[0m\u001b[1;33m\u001b[0m\u001b[1;33m\u001b[0m\u001b[0m\n\u001b[0;32m      2\u001b[0m \u001b[1;32mfor\u001b[0m \u001b[0mline\u001b[0m \u001b[1;32min\u001b[0m \u001b[0mrange\u001b[0m\u001b[1;33m(\u001b[0m\u001b[1;36m5\u001b[0m\u001b[1;33m)\u001b[0m\u001b[1;33m:\u001b[0m\u001b[1;33m\u001b[0m\u001b[1;33m\u001b[0m\u001b[0m\n\u001b[1;32m----> 3\u001b[1;33m     \u001b[1;32mif\u001b[0m \u001b[0mlline\u001b[0m \u001b[1;33m<\u001b[0m \u001b[1;36m3\u001b[0m\u001b[1;33m:\u001b[0m\u001b[1;33m\u001b[0m\u001b[1;33m\u001b[0m\u001b[0m\n\u001b[0m\u001b[0;32m      4\u001b[0m         \u001b[0mprint\u001b[0m\u001b[1;33m(\u001b[0m\u001b[1;36m7\u001b[0m \u001b[1;33m*\u001b[0m \u001b[1;34m\"*\"\u001b[0m \u001b[1;33m+\u001b[0m \u001b[1;36m12\u001b[0m \u001b[1;33m*\u001b[0m \u001b[1;34m\"-\"\u001b[0m\u001b[1;33m)\u001b[0m\u001b[1;33m\u001b[0m\u001b[1;33m\u001b[0m\u001b[0m\n\u001b[0;32m      5\u001b[0m     \u001b[1;32melse\u001b[0m\u001b[1;33m:\u001b[0m\u001b[1;33m\u001b[0m\u001b[1;33m\u001b[0m\u001b[0m\n",
      "\u001b[1;31mNameError\u001b[0m: name 'lline' is not defined"
     ]
    }
   ],
   "metadata": {}
  },
  {
   "cell_type": "markdown",
   "source": [
    "### Part 2\n",
    "\n",
    "- Your code for producing the flag:"
   ],
   "metadata": {
    "deletable": false,
    "editable": false,
    "nbgrader": {
     "cell_type": "markdown",
     "checksum": "01bfa7fb83c593c2dd05f70138a8b713",
     "grade": false,
     "grade_id": "cell-612d3be673da10cc",
     "locked": true,
     "schema_version": 3,
     "solution": false
    }
   }
  },
  {
   "cell_type": "code",
   "execution_count": null,
   "source": [
    "# YOUR CODE HERE\r\n",
    "raise NotImplementedError()"
   ],
   "outputs": [],
   "metadata": {
    "deletable": false,
    "nbgrader": {
     "cell_type": "code",
     "checksum": "4fb83c08cbf46a1cfea871abadd46239",
     "grade": false,
     "grade_id": "problem_4_ag_p2_flag",
     "locked": false,
     "schema_version": 3,
     "solution": true
    }
   }
  },
  {
   "cell_type": "code",
   "execution_count": null,
   "source": [
    "print(flag)"
   ],
   "outputs": [],
   "metadata": {
    "deletable": false,
    "editable": false,
    "nbgrader": {
     "cell_type": "code",
     "checksum": "e006caa1fd814cfbbb976b25bfb94c51",
     "grade": true,
     "grade_id": "problem_4_ag_p2_flag_test",
     "locked": true,
     "points": 0,
     "schema_version": 3,
     "solution": false
    }
   }
  },
  {
   "cell_type": "markdown",
   "source": [
    "### All done!\n",
    "\n",
    "Congrats, if you are here, you have finished all assignments for week 3, even the extra one! Bad-ass. &#128526;"
   ],
   "metadata": {
    "deletable": false,
    "editable": false,
    "nbgrader": {
     "cell_type": "markdown",
     "checksum": "baacc40650a92c61e9a547fc52090ad3",
     "grade": false,
     "grade_id": "cell-4aa072eec21ca596",
     "locked": true,
     "schema_version": 3,
     "solution": false
    }
   }
  }
 ],
 "metadata": {
  "anaconda-cloud": {},
  "kernelspec": {
   "name": "python3",
   "display_name": "Python 3.9.6 64-bit"
  },
  "language_info": {
   "codemirror_mode": {
    "name": "ipython",
    "version": 3
   },
   "file_extension": ".py",
   "mimetype": "text/x-python",
   "name": "python",
   "nbconvert_exporter": "python",
   "pygments_lexer": "ipython3",
   "version": "3.9.6"
  },
  "interpreter": {
   "hash": "63fd5069d213b44bf678585dea6b12cceca9941eaf7f819626cde1f2670de90d"
  }
 },
 "nbformat": 4,
 "nbformat_minor": 2
}